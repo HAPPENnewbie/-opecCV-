{
 "cells": [
  {
   "cell_type": "code",
   "execution_count": null,
   "id": "b2cc544b-12c7-4228-ac64-7edb35a499a4",
   "metadata": {},
   "outputs": [],
   "source": [
    "import cv2 as cv\n",
    "import numpy as np\n",
    "import matplotlib.pyplot as plt"
   ]
  },
  {
   "cell_type": "code",
   "execution_count": null,
   "id": "09b034e1-c1bf-4f85-b27a-de84fb674fda",
   "metadata": {},
   "outputs": [],
   "source": [
    "def show(img):\n",
    "    if img.ndim == 2:\n",
    "        plt.imshow(img, cmap='gray')\n",
    "    if img.ndim == 3:\n",
    "        plt.imshow(cv.cvtColor(img, cv.COLOR_BGR2RGB))\n",
    "    plt.show()"
   ]
  },
  {
   "cell_type": "code",
   "execution_count": null,
   "id": "cc442ca8-7427-4ad0-a5ad-505334596878",
   "metadata": {},
   "outputs": [],
   "source": [
    "img = cv.imread('../pic/1.jpg')\n",
    "show(img)"
   ]
  },
  {
   "cell_type": "code",
   "execution_count": null,
   "id": "26efb06c-5191-4b78-9a7c-9a3d5490c33e",
   "metadata": {},
   "outputs": [],
   "source": []
  }
 ],
 "metadata": {
  "kernelspec": {
   "display_name": "Python 3 (ipykernel)",
   "language": "python",
   "name": "python3"
  },
  "language_info": {
   "codemirror_mode": {
    "name": "ipython",
    "version": 3
   },
   "file_extension": ".py",
   "mimetype": "text/x-python",
   "name": "python",
   "nbconvert_exporter": "python",
   "pygments_lexer": "ipython3",
   "version": "3.11.0"
  }
 },
 "nbformat": 4,
 "nbformat_minor": 5
}
