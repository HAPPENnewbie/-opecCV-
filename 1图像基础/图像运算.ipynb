{
 "cells": [
  {
   "cell_type": "markdown",
   "id": "6e7b36cc-1674-4fe2-bd37-c6e8b3e455d2",
   "metadata": {},
   "source": [
    "# 图像运算"
   ]
  },
  {
   "cell_type": "code",
   "execution_count": 2,
   "id": "17e9ecab-0487-4f32-a974-61c4ec6f77f2",
   "metadata": {},
   "outputs": [],
   "source": [
    "import numpy as np\n",
    "import cv2 as cv\n",
    "import matplotlib.pyplot as plt"
   ]
  },
  {
   "cell_type": "code",
   "execution_count": 3,
   "id": "309a7530-ba37-451c-a1a2-c11169f44002",
   "metadata": {},
   "outputs": [],
   "source": [
    "def show(img):\n",
    "    if img.ndim == 2:\n",
    "        plt.imshow(img, cmap='gray')\n",
    "    if img.ndim == 3:\n",
    "        plt.imshow(cv.cvtColor(img, cv.COLOR_BGR2RGB))\n",
    "    plt.show()"
   ]
  },
  {
   "cell_type": "code",
   "execution_count": 15,
   "id": "19c88284-aed3-4c39-aa1c-42d69175a5b5",
   "metadata": {},
   "outputs": [],
   "source": [
    "#  注意，图像运算要确保图片大小一致，我的图片大小不一致  所以结果没有展示   想看结果， 换图片    后面同理\n",
    "obj = cv.imread('pic/ciwei.png', 0)\n",
    "bg = cv.imread('pic/bg.png', 0)\n",
    "mask = cv.imread('pic/bg2.png', 0)\n",
    "noise = cv.imread('pic/c.png', 0)\n",
    "show(np.hstack([obj, bg， mask, noise])) # 图片大小不一样，跑不出来"
   ]
  },
  {
   "cell_type": "code",
   "execution_count": null,
   "id": "4a294e19-8392-47ef-bfed-36b52023a240",
   "metadata": {},
   "outputs": [],
   "source": [
    "# 相加\n",
    "img_add = obj + bg"
   ]
  }
 ],
 "metadata": {
  "kernelspec": {
   "display_name": "Python 3 (ipykernel)",
   "language": "python",
   "name": "python3"
  },
  "language_info": {
   "codemirror_mode": {
    "name": "ipython",
    "version": 3
   },
   "file_extension": ".py",
   "mimetype": "text/x-python",
   "name": "python",
   "nbconvert_exporter": "python",
   "pygments_lexer": "ipython3",
   "version": "3.11.0"
  }
 },
 "nbformat": 4,
 "nbformat_minor": 5
}
