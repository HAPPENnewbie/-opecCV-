{
 "cells": [
  {
   "cell_type": "markdown",
   "id": "233b2222-30c7-470b-b558-005af24d22d5",
   "metadata": {},
   "source": [
    "# 导入numpy"
   ]
  },
  {
   "cell_type": "code",
   "execution_count": 1,
   "id": "7c164009-7d3d-425a-ae6a-7a77005dfb2c",
   "metadata": {},
   "outputs": [],
   "source": [
    "import numpy as np"
   ]
  },
  {
   "cell_type": "markdown",
   "id": "73268ed0-67e0-42b2-a34c-b1fa96dca7e2",
   "metadata": {},
   "source": [
    "# 数组三种属性"
   ]
  },
  {
   "cell_type": "code",
   "execution_count": 4,
   "id": "e80d17a5-f711-49eb-88fa-eba4b2d6e99a",
   "metadata": {
    "collapsed": true,
    "jupyter": {
     "outputs_hidden": true
    }
   },
   "outputs": [
    {
     "ename": "SyntaxError",
     "evalue": "invalid syntax (1305412375.py, line 1)",
     "output_type": "error",
     "traceback": [
      "\u001b[1;36m  Cell \u001b[1;32mIn[4], line 1\u001b[1;36m\u001b[0m\n\u001b[1;33m    dtype = data type\u001b[0m\n\u001b[1;37m                 ^\u001b[0m\n\u001b[1;31mSyntaxError\u001b[0m\u001b[1;31m:\u001b[0m invalid syntax\n"
     ]
    }
   ],
   "source": [
    "dtype = data type\n",
    "float, uint8, float32\n",
    "\n",
    "shape\n",
    "\n",
    "ndim = n dimension"
   ]
  },
  {
   "cell_type": "markdown",
   "id": "abf37e29-15fc-4931-b4a1-5ec65d79c06c",
   "metadata": {},
   "source": [
    "# 创建矩阵"
   ]
  },
  {
   "cell_type": "code",
   "execution_count": 5,
   "id": "cf5fb02e-42cf-49c0-a15f-f09ac9e195da",
   "metadata": {},
   "outputs": [
    {
     "data": {
      "text/plain": [
       "array([1, 2, 3])"
      ]
     },
     "execution_count": 5,
     "metadata": {},
     "output_type": "execute_result"
    }
   ],
   "source": [
    "# 方法一\n",
    "x = np.array([1,2,3])\n",
    "x"
   ]
  },
  {
   "cell_type": "code",
   "execution_count": 6,
   "id": "3937a1f5-f4ee-4015-8982-06883e2afc4b",
   "metadata": {},
   "outputs": [
    {
     "data": {
      "text/plain": [
       "array([1, 1, 1], dtype=uint8)"
      ]
     },
     "execution_count": 6,
     "metadata": {},
     "output_type": "execute_result"
    }
   ],
   "source": [
    "# 方法二\n",
    "y = np.uint8([1,1,1])\n",
    "y"
   ]
  },
  {
   "cell_type": "code",
   "execution_count": 7,
   "id": "3c3f3d69-f810-4d33-8412-5e883c9d096e",
   "metadata": {},
   "outputs": [],
   "source": [
    "# 查看数据类型\n",
    "x.dtype\n",
    "# 转化数据类型\n",
    "x = np.float32(x)"
   ]
  },
  {
   "cell_type": "code",
   "execution_count": 10,
   "id": "5af926cc-d8bb-4f9b-aa15-2457a900ce8f",
   "metadata": {},
   "outputs": [
    {
     "data": {
      "text/plain": [
       "array([2. , 3.5, 5. , 6.5, 8. , 9.5])"
      ]
     },
     "execution_count": 10,
     "metadata": {},
     "output_type": "execute_result"
    }
   ],
   "source": [
    "# arrange与range不同的是可以把步长设置为小数\n",
    "np.arange(2, 10, 1.5)"
   ]
  },
  {
   "cell_type": "code",
   "execution_count": 13,
   "id": "8996bfdc-0f4b-4f98-a559-dcb83ddb0246",
   "metadata": {},
   "outputs": [
    {
     "data": {
      "text/plain": [
       "array([ 0.,  1.,  2.,  3.,  4.,  5.,  6.,  7.,  8.,  9., 10.])"
      ]
     },
     "execution_count": 13,
     "metadata": {},
     "output_type": "execute_result"
    }
   ],
   "source": [
    "# 第三个参数是指分为几份\n",
    "np.linspace(0, 10, 11)"
   ]
  },
  {
   "cell_type": "code",
   "execution_count": 17,
   "id": "9affed43-8547-4317-8a46-97a08e3748e7",
   "metadata": {},
   "outputs": [
    {
     "data": {
      "text/plain": [
       "dtype('int32')"
      ]
     },
     "execution_count": 17,
     "metadata": {},
     "output_type": "execute_result"
    }
   ],
   "source": [
    "# 创建0矩阵\n",
    "np.zeros((2, 4), dtype = int).dtype"
   ]
  },
  {
   "cell_type": "code",
   "execution_count": 21,
   "id": "3f96ded0-9ea4-43c9-98e8-48cda44f0b18",
   "metadata": {},
   "outputs": [
    {
     "data": {
      "text/plain": [
       "array([[1., 1.],\n",
       "       [1., 1.]], dtype=float32)"
      ]
     },
     "execution_count": 21,
     "metadata": {},
     "output_type": "execute_result"
    }
   ],
   "source": [
    "# 创建全1矩阵\n",
    "np.ones((2, 2), dtype = np.float32)"
   ]
  },
  {
   "cell_type": "code",
   "execution_count": 24,
   "id": "41efd309-2832-46fc-8f63-fbda3934d6b2",
   "metadata": {},
   "outputs": [
    {
     "data": {
      "text/plain": [
       "array([[1., 0., 0., 0.],\n",
       "       [0., 1., 0., 0.],\n",
       "       [0., 0., 1., 0.],\n",
       "       [0., 0., 0., 1.]])"
      ]
     },
     "execution_count": 24,
     "metadata": {},
     "output_type": "execute_result"
    }
   ],
   "source": [
    "# 创建单位矩阵\n",
    "# way 1\n",
    "np.eye(4)"
   ]
  },
  {
   "cell_type": "code",
   "execution_count": 25,
   "id": "8978c073-cedd-4808-bba5-4a31af07361b",
   "metadata": {},
   "outputs": [
    {
     "data": {
      "text/plain": [
       "array([[1., 0., 0., 0.],\n",
       "       [0., 1., 0., 0.],\n",
       "       [0., 0., 1., 0.],\n",
       "       [0., 0., 0., 1.]])"
      ]
     },
     "execution_count": 25,
     "metadata": {},
     "output_type": "execute_result"
    }
   ],
   "source": [
    "# way2\n",
    "np.identity((4))"
   ]
  },
  {
   "cell_type": "code",
   "execution_count": 26,
   "id": "1f408de2-bcc9-4af6-afa1-b3f35f513225",
   "metadata": {},
   "outputs": [
    {
     "data": {
      "text/plain": [
       "array([[ 83,  32,  76, 240,  20, 147,  59,  77, 227,  16],\n",
       "       [ 29,  23, 222, 151,  48, 130,  46,  22, 105, 136],\n",
       "       [195, 226,  68, 180,  26,  27,  75, 239, 226, 219],\n",
       "       [104, 124,  14,  92,  83,  28, 227,  52,  24,   6],\n",
       "       [126, 210, 242, 227, 118,  77, 253, 213, 221, 209],\n",
       "       [255, 143, 198, 204,  74,  53, 230, 210,  61, 223],\n",
       "       [255,  90,  14,  47, 143,  85, 178,  87, 213, 192],\n",
       "       [242,  47, 120, 246,  38, 254,  57,  63,  58, 253],\n",
       "       [243, 110,  51,  96,  89, 184, 210, 181, 218,  83],\n",
       "       [146, 129, 202,  54, 101, 142, 184,  39, 139, 248]], dtype=uint8)"
      ]
     },
     "execution_count": 26,
     "metadata": {},
     "output_type": "execute_result"
    }
   ],
   "source": [
    "# 随机创建数组\n",
    "np.random.randint(0, 256, (10, 10), dtype=np.uint8)"
   ]
  },
  {
   "cell_type": "markdown",
   "id": "b9ea6f1f-f333-412f-8fe3-cb8843c44aec",
   "metadata": {},
   "source": [
    "# 矩阵转换"
   ]
  },
  {
   "cell_type": "code",
   "execution_count": 7,
   "id": "481a899b-e7d0-43fa-b019-df10d6c6bca6",
   "metadata": {},
   "outputs": [
    {
     "data": {
      "text/plain": [
       "array([[1, 1, 1],\n",
       "       [1, 1, 1],\n",
       "       [1, 1, 1]], dtype=uint8)"
      ]
     },
     "execution_count": 7,
     "metadata": {},
     "output_type": "execute_result"
    }
   ],
   "source": [
    "A = np.ones((3, 3), dtype = np.uint8 )\n",
    "A"
   ]
  },
  {
   "cell_type": "code",
   "execution_count": 10,
   "id": "af7b2921-26bd-465b-b623-b35acde05b89",
   "metadata": {},
   "outputs": [
    {
     "data": {
      "text/plain": [
       "array([[1, 1, 1, 1, 1, 1, 1, 1, 1]], dtype=uint8)"
      ]
     },
     "execution_count": 10,
     "metadata": {},
     "output_type": "execute_result"
    }
   ],
   "source": [
    "#  改变矩阵形状而不改变数据\n",
    "A.reshape((1, 9))"
   ]
  },
  {
   "cell_type": "code",
   "execution_count": 11,
   "id": "a4c53289-d8f2-413b-b01f-b152cd98d8ce",
   "metadata": {},
   "outputs": [
    {
     "data": {
      "text/plain": [
       "array([1, 1, 1, 1, 1, 1, 1, 1, 1], dtype=uint8)"
      ]
     },
     "execution_count": 11,
     "metadata": {},
     "output_type": "execute_result"
    }
   ],
   "source": [
    "# 对多维函数降维\n",
    "A.flatten()"
   ]
  },
  {
   "cell_type": "code",
   "execution_count": 22,
   "id": "991b3790-8fc7-451a-bccf-b31f190ccf19",
   "metadata": {},
   "outputs": [
    {
     "data": {
      "text/plain": [
       "array([[3, 5, 5],\n",
       "       [0, 6, 6],\n",
       "       [5, 6, 1]])"
      ]
     },
     "execution_count": 22,
     "metadata": {},
     "output_type": "execute_result"
    }
   ],
   "source": [
    "# 转置\n",
    "#WAY 1\n",
    "B = np.random.randint(0, 9, (3, 3))\n",
    "B.T"
   ]
  },
  {
   "cell_type": "code",
   "execution_count": 23,
   "id": "28d7e048-1b76-4a13-b10d-b37711e08adb",
   "metadata": {},
   "outputs": [
    {
     "data": {
      "text/plain": [
       "array([[3, 5, 5],\n",
       "       [0, 6, 6],\n",
       "       [5, 6, 1]])"
      ]
     },
     "execution_count": 23,
     "metadata": {},
     "output_type": "execute_result"
    }
   ],
   "source": [
    "#way 2\n",
    "B.transpose()"
   ]
  },
  {
   "cell_type": "code",
   "execution_count": 26,
   "id": "f068e992-7e24-46ac-a03c-5bf1bea9e5cd",
   "metadata": {},
   "outputs": [
    {
     "data": {
      "text/plain": [
       "array([[1, 1, 1, 3, 0, 5],\n",
       "       [1, 1, 1, 5, 6, 6],\n",
       "       [1, 1, 1, 5, 6, 1]])"
      ]
     },
     "execution_count": 26,
     "metadata": {},
     "output_type": "execute_result"
    }
   ],
   "source": [
    "# 水平拼接矩阵 \n",
    "np.hstack([A, B])"
   ]
  },
  {
   "cell_type": "markdown",
   "id": "159d2904-3e90-4e6c-aaf5-1295b10e1341",
   "metadata": {},
   "source": [
    "# 矩阵运算"
   ]
  },
  {
   "cell_type": "code",
   "execution_count": 32,
   "id": "89c12c6d-bc6a-41cd-88bb-8a0ba27ad947",
   "metadata": {},
   "outputs": [
    {
     "data": {
      "text/plain": [
       "(6, 0, 4.111111111111111)"
      ]
     },
     "execution_count": 32,
     "metadata": {},
     "output_type": "execute_result"
    }
   ],
   "source": [
    "# 总体矩阵的求解\n",
    "B.max(), B.min(),B.mean()"
   ]
  },
  {
   "cell_type": "code",
   "execution_count": 36,
   "id": "5a0e37a5-d4db-4900-8b80-026098ed2443",
   "metadata": {},
   "outputs": [
    {
     "data": {
      "text/plain": [
       "array([5, 6, 6])"
      ]
     },
     "execution_count": 36,
     "metadata": {},
     "output_type": "execute_result"
    }
   ],
   "source": [
    "# 行（列）的求解\n",
    "B.max(axis=0) #每行最大"
   ]
  },
  {
   "cell_type": "code",
   "execution_count": 40,
   "id": "78d473f4-24cb-43f0-91df-b1872da77dd3",
   "metadata": {},
   "outputs": [
    {
     "data": {
      "text/plain": [
       "array([5, 6, 6])"
      ]
     },
     "execution_count": 40,
     "metadata": {},
     "output_type": "execute_result"
    }
   ],
   "source": [
    "B.max(axis=1) #每列最大  np.max(B, axis = 1) 也可以"
   ]
  },
  {
   "cell_type": "code",
   "execution_count": 41,
   "id": "97d4005a-e0e5-4bb2-adfb-d5d15f8a516a",
   "metadata": {},
   "outputs": [
    {
     "data": {
      "text/plain": [
       "array([[4, 1, 6],\n",
       "       [6, 7, 7],\n",
       "       [6, 7, 2]])"
      ]
     },
     "execution_count": 41,
     "metadata": {},
     "output_type": "execute_result"
    }
   ],
   "source": [
    "# 矩阵相加\n",
    "A + B"
   ]
  },
  {
   "cell_type": "code",
   "execution_count": 42,
   "id": "a2916009-36fb-436f-b8dc-d09305f6ee6e",
   "metadata": {},
   "outputs": [
    {
     "data": {
      "text/plain": [
       "array([[ 9,  0, 25],\n",
       "       [25, 36, 36],\n",
       "       [25, 36,  1]], dtype=int32)"
      ]
     },
     "execution_count": 42,
     "metadata": {},
     "output_type": "execute_result"
    }
   ],
   "source": [
    "# 矩阵的幂\n",
    "np.power(B, 2)"
   ]
  },
  {
   "cell_type": "code",
   "execution_count": 44,
   "id": "63b8556a-b205-4f41-9997-b7721f04e738",
   "metadata": {},
   "outputs": [
    {
     "data": {
      "text/plain": [
       "array([[1.73205081, 0.        , 2.23606798],\n",
       "       [2.23606798, 2.44948974, 2.44948974],\n",
       "       [2.23606798, 2.44948974, 1.        ]])"
      ]
     },
     "execution_count": 44,
     "metadata": {},
     "output_type": "execute_result"
    }
   ],
   "source": [
    "# 矩阵开根\n",
    "np.power(B, 0.5) # np.sqrt(B)"
   ]
  },
  {
   "cell_type": "code",
   "execution_count": 45,
   "id": "de614097-f658-4ee3-99d5-984c14cb5898",
   "metadata": {},
   "outputs": [
    {
     "data": {
      "text/plain": [
       "array([[0.60205999, 0.        , 0.77815125],\n",
       "       [0.77815125, 0.84509804, 0.84509804],\n",
       "       [0.77815125, 0.84509804, 0.30103   ]])"
      ]
     },
     "execution_count": 45,
     "metadata": {},
     "output_type": "execute_result"
    }
   ],
   "source": [
    "# log操作\n",
    "np.log10(B+1)"
   ]
  },
  {
   "cell_type": "code",
   "execution_count": 47,
   "id": "5c43adfb-8e98-4981-becc-b04840cbbe01",
   "metadata": {},
   "outputs": [
    {
     "data": {
      "text/plain": [
       "array([1, 2, 3])"
      ]
     },
     "execution_count": 47,
     "metadata": {},
     "output_type": "execute_result"
    }
   ],
   "source": [
    "# 矩阵乘法 A* x\n",
    "x = np.array([1, 2, 3])\n",
    "x"
   ]
  },
  {
   "cell_type": "code",
   "execution_count": 49,
   "id": "a623d2a5-b36b-470c-a30c-e2fed5607d9e",
   "metadata": {},
   "outputs": [
    {
     "data": {
      "text/plain": [
       "array([[1, 1, 1],\n",
       "       [1, 1, 1],\n",
       "       [1, 1, 1]], dtype=uint8)"
      ]
     },
     "execution_count": 49,
     "metadata": {},
     "output_type": "execute_result"
    }
   ],
   "source": [
    "A"
   ]
  },
  {
   "cell_type": "code",
   "execution_count": 54,
   "id": "1f03cfe1-bf62-4062-8905-51d51e6c9a4a",
   "metadata": {},
   "outputs": [
    {
     "data": {
      "text/plain": [
       "array([6, 6, 6])"
      ]
     },
     "execution_count": 54,
     "metadata": {},
     "output_type": "execute_result"
    }
   ],
   "source": [
    "A @ x # 也可以 A.dot(B)"
   ]
  },
  {
   "cell_type": "markdown",
   "id": "c0723698-67a9-4705-8c82-b9d5fae486fc",
   "metadata": {},
   "source": [
    "# 元素获取"
   ]
  },
  {
   "cell_type": "code",
   "execution_count": 56,
   "id": "0e0c6bff-fc10-4c22-bb6c-d1dc6bd46dd6",
   "metadata": {},
   "outputs": [
    {
     "data": {
      "text/plain": [
       "array([[3, 0, 5],\n",
       "       [5, 6, 6],\n",
       "       [5, 6, 1]])"
      ]
     },
     "execution_count": 56,
     "metadata": {},
     "output_type": "execute_result"
    }
   ],
   "source": [
    "B"
   ]
  },
  {
   "cell_type": "code",
   "execution_count": 57,
   "id": "d65e9b0f-788a-49d9-ac8f-4a68cbb78fbf",
   "metadata": {},
   "outputs": [
    {
     "data": {
      "text/plain": [
       "array([3, 0, 5])"
      ]
     },
     "execution_count": 57,
     "metadata": {},
     "output_type": "execute_result"
    }
   ],
   "source": [
    "# 取第0行所有\n",
    "B[0, :]"
   ]
  },
  {
   "cell_type": "code",
   "execution_count": 59,
   "id": "18919215-1d9e-4ebd-88c6-cb87c8a2f22b",
   "metadata": {},
   "outputs": [
    {
     "data": {
      "text/plain": [
       "array([3, 5, 5])"
      ]
     },
     "execution_count": 59,
     "metadata": {},
     "output_type": "execute_result"
    }
   ],
   "source": [
    "# 取第0行所有\n",
    "B[:, 0]"
   ]
  },
  {
   "cell_type": "code",
   "execution_count": 60,
   "id": "0d164875-ae68-4bfe-a712-bb5466719086",
   "metadata": {},
   "outputs": [
    {
     "data": {
      "text/plain": [
       "array([[6, 6],\n",
       "       [6, 1]])"
      ]
     },
     "execution_count": 60,
     "metadata": {},
     "output_type": "execute_result"
    }
   ],
   "source": [
    "# 用切片来取具体的元素\n",
    "B[1:3, 1:3]"
   ]
  },
  {
   "cell_type": "code",
   "execution_count": 63,
   "id": "91f30332-50a0-4514-b615-e3d3ec753f01",
   "metadata": {},
   "outputs": [
    {
     "data": {
      "text/plain": [
       "array([[ 3,  0,  5],\n",
       "       [ 5, 10,  6],\n",
       "       [ 5,  6,  1]])"
      ]
     },
     "execution_count": 63,
     "metadata": {},
     "output_type": "execute_result"
    }
   ],
   "source": [
    "# 改变某个位置的元素\n",
    "B[1,1] = 10\n",
    "B"
   ]
  },
  {
   "cell_type": "code",
   "execution_count": 64,
   "id": "fb19c316-6adc-4e52-85a7-8755edfafec2",
   "metadata": {},
   "outputs": [
    {
     "data": {
      "text/plain": [
       "array([[ 2,  2,  2],\n",
       "       [ 5, 10,  6],\n",
       "       [ 5,  6,  1]])"
      ]
     },
     "execution_count": 64,
     "metadata": {},
     "output_type": "execute_result"
    }
   ],
   "source": [
    "# 改变某行元素\n",
    "B[0, :] = 2\n",
    "B"
   ]
  },
  {
   "cell_type": "code",
   "execution_count": null,
   "id": "fc479197-33d9-4ca2-b6ad-53da3e09de53",
   "metadata": {},
   "outputs": [],
   "source": []
  }
 ],
 "metadata": {
  "kernelspec": {
   "display_name": "Python 3 (ipykernel)",
   "language": "python",
   "name": "python3"
  },
  "language_info": {
   "codemirror_mode": {
    "name": "ipython",
    "version": 3
   },
   "file_extension": ".py",
   "mimetype": "text/x-python",
   "name": "python",
   "nbconvert_exporter": "python",
   "pygments_lexer": "ipython3",
   "version": "3.11.0"
  }
 },
 "nbformat": 4,
 "nbformat_minor": 5
}
